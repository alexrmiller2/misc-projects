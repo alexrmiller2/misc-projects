{
  "cells": [
    {
      "cell_type": "markdown",
      "metadata": {
        "id": "view-in-github",
        "colab_type": "text"
      },
      "source": [
        "<a href=\"https://colab.research.google.com/github/alexrmiller2/misc-projects/blob/main/Welcome_To_Colab_222.ipynb\" target=\"_parent\"><img src=\"https://colab.research.google.com/assets/colab-badge.svg\" alt=\"Open In Colab\"/></a>"
      ]
    },
    {
      "cell_type": "code",
      "source": [
        "import yfinance as yf\n",
        "\n",
        "tickers = {'YMZ25.CBT': 'YMZ', '^VIX': 'VIX', 'DX-Y.NYB': 'DXY'}\n",
        "data = yf.download(list(tickers.keys()), period='30d', interval='15m', group_by='ticker')\n",
        "data.columns = [f\"{tickers[t]}_{c}\" for t, c in data.columns]\n",
        "\n",
        "data = data.sort_index(axis=1)\n",
        "data = data.drop(columns=['VIX_Volume', 'DXY_Volume']).tz_convert(\"US/Eastern\")\n",
        "\n",
        "data.info()"
      ],
      "metadata": {
        "colab": {
          "base_uri": "https://localhost:8080/"
        },
        "id": "OIF9XySPsRSy",
        "outputId": "0563cf09-9a69-4654-98a7-ab9d6a9b04d4"
      },
      "execution_count": 89,
      "outputs": [
        {
          "output_type": "stream",
          "name": "stderr",
          "text": [
            "/tmp/ipython-input-2697672170.py:4: FutureWarning:\n",
            "\n",
            "YF.download() has changed argument auto_adjust default to True\n",
            "\n",
            "[*********************100%***********************]  3 of 3 completed"
          ]
        },
        {
          "output_type": "stream",
          "name": "stdout",
          "text": [
            "<class 'pandas.core.frame.DataFrame'>\n",
            "DatetimeIndex: 2623 entries, 2025-09-22 03:15:00-04:00 to 2025-10-31 12:30:00-04:00\n",
            "Data columns (total 13 columns):\n",
            " #   Column      Non-Null Count  Dtype  \n",
            "---  ------      --------------  -----  \n",
            " 0   DXY_Close   2236 non-null   float64\n",
            " 1   DXY_High    2236 non-null   float64\n",
            " 2   DXY_Low     2236 non-null   float64\n",
            " 3   DXY_Open    2236 non-null   float64\n",
            " 4   VIX_Close   1546 non-null   float64\n",
            " 5   VIX_High    1546 non-null   float64\n",
            " 6   VIX_Low     1546 non-null   float64\n",
            " 7   VIX_Open    1546 non-null   float64\n",
            " 8   YMZ_Close   2282 non-null   float64\n",
            " 9   YMZ_High    2282 non-null   float64\n",
            " 10  YMZ_Low     2282 non-null   float64\n",
            " 11  YMZ_Open    2282 non-null   float64\n",
            " 12  YMZ_Volume  2282 non-null   float64\n",
            "dtypes: float64(13)\n",
            "memory usage: 286.9 KB\n"
          ]
        },
        {
          "output_type": "stream",
          "name": "stderr",
          "text": [
            "\n"
          ]
        }
      ]
    },
    {
      "cell_type": "markdown",
      "source": [],
      "metadata": {
        "id": "aahdo7Mstdbn"
      }
    },
    {
      "cell_type": "code",
      "source": [
        "import numpy as np\n",
        "import pandas as pd\n",
        "\n",
        "def kalman_fair(\n",
        "    df: pd.DataFrame,\n",
        "    dt: float = 1.0,\n",
        "    q_price: float = 1e-4,\n",
        "    q_drift: float = 5e-6,\n",
        "    r_base: float = 5e-3,\n",
        "    vol_lookback: int = 20,\n",
        "    vol_alpha: float = 0.5,\n",
        "    use_adaptive_R: bool = True\n",
        ") -> pd.DataFrame:\n",
        "    data = df.copy()\n",
        "\n",
        "    # Fill missing values in one go\n",
        "    cols = [\"YMZ_Close\", \"YMZ_High\", \"YMZ_Low\", \"YMZ_Volume\"]\n",
        "    data[cols] = data[cols].ffill().bfill().astype(float)\n",
        "\n",
        "    z = data[\"YMZ_Close\"].values\n",
        "\n",
        "    # Volatility scaling\n",
        "    tr = (data[\"YMZ_High\"] - data[\"YMZ_Low\"]).abs()\n",
        "    tr_ma = tr.rolling(vol_lookback, min_periods=1).mean()\n",
        "\n",
        "    log_vol = np.log(data[\"YMZ_Volume\"].replace(0, np.nan).ffill())\n",
        "    vol_mean = log_vol.rolling(vol_lookback, min_periods=1).mean()\n",
        "    vol_std = log_vol.rolling(vol_lookback, min_periods=1).std(ddof=0) + 1e-12\n",
        "    vol_z = (log_vol - vol_mean) / vol_std\n",
        "\n",
        "    r_scale = (1 - vol_alpha) * (tr / (tr_ma + 1e-12)) \\\n",
        "              + vol_alpha * (np.exp(np.clip(vol_z, -2, 2)) / np.e + 0.5)\n",
        "    r_scale = r_scale.clip(0.25, 4.0).values\n",
        "\n",
        "    # Kalman filter setup\n",
        "    kf = KalmanFilter(dim_x=2, dim_z=1)\n",
        "    kf.F = np.array([[1.0, dt], [0.0, 1.0]])\n",
        "    kf.H = np.array([[1.0, 0.0]])\n",
        "    kf.Q = np.diag([q_price, q_drift])\n",
        "    kf.R = np.array([[r_base]])\n",
        "    kf.P = np.diag([1e3, 1e3])  # large initial uncertainty\n",
        "    kf.x = np.array([[z[0]], [0.0]])\n",
        "\n",
        "    x_filt = np.zeros((len(z), 2))\n",
        "    p_var = np.zeros(len(z))\n",
        "    innov = np.full(len(z), np.nan)\n",
        "\n",
        "    for i, zi in enumerate(z):\n",
        "        kf.predict()\n",
        "        if use_adaptive_R:\n",
        "            kf.R[0, 0] = r_base * r_scale[i]\n",
        "        if not np.isnan(zi):\n",
        "            innov[i] = zi - float(kf.H @ kf.x)\n",
        "            kf.update([zi])\n",
        "        x_filt[i] = kf.x.ravel()\n",
        "        p_var[i] = kf.P[0, 0]\n",
        "\n",
        "    return pd.DataFrame({\n",
        "        \"kalman_price\": x_filt[:, 0],\n",
        "        \"kalman_drift\": x_filt[:, 1],\n",
        "        \"price_var\": p_var,\n",
        "        \"innovation\": innov,\n",
        "        \"raw_price\": z,\n",
        "    }, index=data.index)\n",
        "\n",
        "\n",
        "def append_features(data):\n",
        "    expected_columns = [\n",
        "        'DXY_Close', 'DXY_High', 'DXY_Low', 'DXY_Open',\n",
        "        'VIX_Close', 'VIX_High', 'VIX_Low', 'VIX_Open',\n",
        "        'YMZ_Close', 'YMZ_High', 'YMZ_Low', 'YMZ_Open',\n",
        "        'YMZ_Volume']\n",
        "\n",
        "    if list(data.columns) != expected_columns:\n",
        "        print(\"Error: Column mismatch.\")\n",
        "        print(f\"Received columns: {list(data.columns)}\")\n",
        "        print(f\"Expected columns: {expected_columns}\")\n",
        "        return data\n",
        "\n",
        "    df = data.copy()\n",
        "    df['Kalman'] = kalman_fair(df, q_price=1e-6, q_drift=5e-6, r_base=5e-1)['kalman_price']\n",
        "    df[\"SMA_20\"] = df['YMZ_Close'].rolling(\"5D\").mean()\n",
        "\n",
        "    return df\n",
        "\n",
        "df = append_features(data).ffill()\n",
        "import plotly.graph_objects as go\n",
        "fig = go.Figure()\n",
        "for i, (name, yvals) in enumerate({\"Close\": df.YMZ_Close,\"Kalman\": df.Kalman,\"SMA\": df.SMA_20}.items()): fig.add_trace(go.Scatter(x=df.index, y=yvals, name=name))\n",
        "fig.show()"
      ],
      "metadata": {
        "id": "WsF8pEciui0I",
        "outputId": "e12ec0ca-d91d-4145-a818-748f9a1a142c",
        "colab": {
          "base_uri": "https://localhost:8080/",
          "height": 211
        }
      },
      "execution_count": 1,
      "outputs": [
        {
          "output_type": "error",
          "ename": "NameError",
          "evalue": "name 'data' is not defined",
          "traceback": [
            "\u001b[0;31m---------------------------------------------------------------------------\u001b[0m",
            "\u001b[0;31mNameError\u001b[0m                                 Traceback (most recent call last)",
            "\u001b[0;32m/tmp/ipython-input-3878122623.py\u001b[0m in \u001b[0;36m<cell line: 0>\u001b[0;34m()\u001b[0m\n\u001b[1;32m     84\u001b[0m     \u001b[0;32mreturn\u001b[0m \u001b[0mdf\u001b[0m\u001b[0;34m\u001b[0m\u001b[0;34m\u001b[0m\u001b[0m\n\u001b[1;32m     85\u001b[0m \u001b[0;34m\u001b[0m\u001b[0m\n\u001b[0;32m---> 86\u001b[0;31m \u001b[0mdf\u001b[0m \u001b[0;34m=\u001b[0m \u001b[0mappend_features\u001b[0m\u001b[0;34m(\u001b[0m\u001b[0mdata\u001b[0m\u001b[0;34m)\u001b[0m\u001b[0;34m.\u001b[0m\u001b[0mffill\u001b[0m\u001b[0;34m(\u001b[0m\u001b[0;34m)\u001b[0m\u001b[0;34m\u001b[0m\u001b[0;34m\u001b[0m\u001b[0m\n\u001b[0m\u001b[1;32m     87\u001b[0m \u001b[0;32mimport\u001b[0m \u001b[0mplotly\u001b[0m\u001b[0;34m.\u001b[0m\u001b[0mgraph_objects\u001b[0m \u001b[0;32mas\u001b[0m \u001b[0mgo\u001b[0m\u001b[0;34m\u001b[0m\u001b[0;34m\u001b[0m\u001b[0m\n\u001b[1;32m     88\u001b[0m \u001b[0mfig\u001b[0m \u001b[0;34m=\u001b[0m \u001b[0mgo\u001b[0m\u001b[0;34m.\u001b[0m\u001b[0mFigure\u001b[0m\u001b[0;34m(\u001b[0m\u001b[0;34m)\u001b[0m\u001b[0;34m\u001b[0m\u001b[0;34m\u001b[0m\u001b[0m\n",
            "\u001b[0;31mNameError\u001b[0m: name 'data' is not defined"
          ]
        }
      ]
    },
    {
      "cell_type": "code",
      "source": [
        "!pip install filterpy"
      ],
      "metadata": {
        "id": "qHuQUOc50JuW",
        "outputId": "3f626a9d-dc63-426c-b2e2-4b1a453d7a68",
        "colab": {
          "base_uri": "https://localhost:8080/"
        }
      },
      "execution_count": 50,
      "outputs": [
        {
          "output_type": "stream",
          "name": "stdout",
          "text": [
            "Collecting filterpy\n",
            "  Downloading filterpy-1.4.5.zip (177 kB)\n",
            "\u001b[?25l     \u001b[90m━━━━━━━━━━━━━━━━━━━━━━━━━━━━━━━━━━━━━━━━\u001b[0m \u001b[32m0.0/178.0 kB\u001b[0m \u001b[31m?\u001b[0m eta \u001b[36m-:--:--\u001b[0m\r\u001b[2K     \u001b[90m━━━━━━━━━━━━━━━━━━━━━━━━━━━━━━━━━━━━━━\u001b[0m \u001b[32m178.0/178.0 kB\u001b[0m \u001b[31m10.2 MB/s\u001b[0m eta \u001b[36m0:00:00\u001b[0m\n",
            "\u001b[?25h  Preparing metadata (setup.py) ... \u001b[?25l\u001b[?25hdone\n",
            "Requirement already satisfied: numpy in /usr/local/lib/python3.12/dist-packages (from filterpy) (2.0.2)\n",
            "Requirement already satisfied: scipy in /usr/local/lib/python3.12/dist-packages (from filterpy) (1.16.3)\n",
            "Requirement already satisfied: matplotlib in /usr/local/lib/python3.12/dist-packages (from filterpy) (3.10.0)\n",
            "Requirement already satisfied: contourpy>=1.0.1 in /usr/local/lib/python3.12/dist-packages (from matplotlib->filterpy) (1.3.3)\n",
            "Requirement already satisfied: cycler>=0.10 in /usr/local/lib/python3.12/dist-packages (from matplotlib->filterpy) (0.12.1)\n",
            "Requirement already satisfied: fonttools>=4.22.0 in /usr/local/lib/python3.12/dist-packages (from matplotlib->filterpy) (4.60.1)\n",
            "Requirement already satisfied: kiwisolver>=1.3.1 in /usr/local/lib/python3.12/dist-packages (from matplotlib->filterpy) (1.4.9)\n",
            "Requirement already satisfied: packaging>=20.0 in /usr/local/lib/python3.12/dist-packages (from matplotlib->filterpy) (25.0)\n",
            "Requirement already satisfied: pillow>=8 in /usr/local/lib/python3.12/dist-packages (from matplotlib->filterpy) (11.3.0)\n",
            "Requirement already satisfied: pyparsing>=2.3.1 in /usr/local/lib/python3.12/dist-packages (from matplotlib->filterpy) (3.2.5)\n",
            "Requirement already satisfied: python-dateutil>=2.7 in /usr/local/lib/python3.12/dist-packages (from matplotlib->filterpy) (2.9.0.post0)\n",
            "Requirement already satisfied: six>=1.5 in /usr/local/lib/python3.12/dist-packages (from python-dateutil>=2.7->matplotlib->filterpy) (1.17.0)\n",
            "Building wheels for collected packages: filterpy\n",
            "  Building wheel for filterpy (setup.py) ... \u001b[?25l\u001b[?25hdone\n",
            "  Created wheel for filterpy: filename=filterpy-1.4.5-py3-none-any.whl size=110460 sha256=b8ae3f93af767f74366155f572f02ddedc535fe1dbfe30e2e6963aa7945b5dcb\n",
            "  Stored in directory: /root/.cache/pip/wheels/77/bf/4c/b0c3f4798a0166668752312a67118b27a3cd341e13ac0ae6ee\n",
            "Successfully built filterpy\n",
            "Installing collected packages: filterpy\n",
            "Successfully installed filterpy-1.4.5\n"
          ]
        }
      ]
    }
  ],
  "metadata": {
    "colab": {
      "name": "Welcome To Colab",
      "provenance": [],
      "include_colab_link": true
    },
    "kernelspec": {
      "display_name": "Python 3",
      "name": "python3"
    }
  },
  "nbformat": 4,
  "nbformat_minor": 0
}