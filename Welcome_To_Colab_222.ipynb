{
  "cells": [
    {
      "cell_type": "markdown",
      "metadata": {
        "id": "view-in-github",
        "colab_type": "text"
      },
      "source": [
        "<a href=\"https://colab.research.google.com/github/alexrmiller2/misc-projects/blob/main/Welcome_To_Colab_222.ipynb\" target=\"_parent\"><img src=\"https://colab.research.google.com/assets/colab-badge.svg\" alt=\"Open In Colab\"/></a>"
      ]
    },
    {
      "cell_type": "code",
      "source": [
        "import yfinance as yf\n",
        "\n",
        "tickers = {'YMZ25.CBT': 'YMZ', '^VIX': 'VIX', 'DX-Y.NYB': 'DXY'}\n",
        "data = yf.download(list(tickers.keys()), period='60d', interval='15m', group_by='ticker')\n",
        "data.columns = [f\"{tickers[t]}_{c}\" for t, c in data.columns]\n",
        "\n",
        "data = data.sort_index(axis=1)\n",
        "data = data.drop(columns=['VIX_Volume', 'DXY_Volume']).tz_convert(\"US/Eastern\")\n",
        "\n",
        "data.info()"
      ],
      "metadata": {
        "colab": {
          "base_uri": "https://localhost:8080/"
        },
        "id": "OIF9XySPsRSy",
        "outputId": "6846d3a9-052f-4d8f-ae6f-f9b655bb9868"
      },
      "execution_count": 79,
      "outputs": [
        {
          "output_type": "stream",
          "name": "stderr",
          "text": [
            "/tmp/ipython-input-1779995218.py:4: FutureWarning:\n",
            "\n",
            "YF.download() has changed argument auto_adjust default to True\n",
            "\n",
            "[*********************100%***********************]  3 of 3 completed"
          ]
        },
        {
          "output_type": "stream",
          "name": "stdout",
          "text": [
            "<class 'pandas.core.frame.DataFrame'>\n",
            "DatetimeIndex: 5156 entries, 2025-08-08 03:15:00-04:00 to 2025-10-30 12:45:00-04:00\n",
            "Data columns (total 13 columns):\n",
            " #   Column      Non-Null Count  Dtype  \n",
            "---  ------      --------------  -----  \n",
            " 0   DXY_Close   4472 non-null   float64\n",
            " 1   DXY_High    4472 non-null   float64\n",
            " 2   DXY_Low     4472 non-null   float64\n",
            " 3   DXY_Open    4472 non-null   float64\n",
            " 4   VIX_Close   3080 non-null   float64\n",
            " 5   VIX_High    3080 non-null   float64\n",
            " 6   VIX_Low     3080 non-null   float64\n",
            " 7   VIX_Open    3080 non-null   float64\n",
            " 8   YMZ_Close   3678 non-null   float64\n",
            " 9   YMZ_High    3678 non-null   float64\n",
            " 10  YMZ_Low     3678 non-null   float64\n",
            " 11  YMZ_Open    3678 non-null   float64\n",
            " 12  YMZ_Volume  3678 non-null   float64\n",
            "dtypes: float64(13)\n",
            "memory usage: 563.9 KB\n"
          ]
        },
        {
          "output_type": "stream",
          "name": "stderr",
          "text": [
            "\n"
          ]
        }
      ]
    },
    {
      "cell_type": "markdown",
      "source": [],
      "metadata": {
        "id": "aahdo7Mstdbn"
      }
    },
    {
      "cell_type": "code",
      "source": [
        "import numpy as np\n",
        "import pandas as pd\n",
        "\n",
        "def kalman_filter_2d(z, dt=1.0, Q_var=1e-3, R_var=0.5):\n",
        "    \"\"\"\n",
        "    z : list or np.array of position measurements (can contain NaNs)\n",
        "    dt: time step\n",
        "    Q_var: process noise variance\n",
        "    R_var: measurement noise variance\n",
        "    \"\"\"\n",
        "    # Convert to pandas Series for interpolation\n",
        "    z = pd.Series(z).interpolate(method=\"linear\").fillna(method=\"bfill\").fillna(method=\"ffill\").values\n",
        "    n = len(z)\n",
        "\n",
        "    xhat = np.zeros((n, 2))  # state estimates [pos, vel]\n",
        "\n",
        "    # State transition matrix\n",
        "    F = np.array([[1, dt],\n",
        "                  [0, 1]])\n",
        "\n",
        "    # Measurement matrix\n",
        "    H = np.array([[1, 0]])\n",
        "\n",
        "    # Covariances\n",
        "    Q = Q_var * np.array([[dt**4/4, dt**3/2],\n",
        "                          [dt**3/2, dt**2]])\n",
        "    R = np.array([[R_var]])\n",
        "\n",
        "    # Initial guesses\n",
        "    xhat[0] = [z[0], 0]   # start with first measurement, zero velocity\n",
        "    P = np.eye(2)         # initial covariance\n",
        "\n",
        "    I = np.eye(2)\n",
        "\n",
        "    for k in range(1, n):\n",
        "        # --- Prediction ---\n",
        "        xhat_minus = F @ xhat[k-1]\n",
        "        P_minus = F @ P @ F.T + Q\n",
        "\n",
        "        # --- Update ---\n",
        "        S = H @ P_minus @ H.T + R\n",
        "        K = P_minus @ H.T @ np.linalg.pinv(S)   # safer than inv\n",
        "        y = z[k] - H @ xhat_minus               # innovation\n",
        "        xhat[k] = xhat_minus + (K @ y).flatten()\n",
        "\n",
        "        # Joseph form for numerical stability\n",
        "        P = (I - K @ H) @ P_minus @ (I - K @ H).T + K @ R @ K.T\n",
        "\n",
        "    return xhat\n",
        "\n",
        "# Example usage\n",
        "measurements = np.array([1, 2, 4, 7, 11, 16])  # noisy positions\n",
        "\n",
        "\n",
        "\n",
        "def append_features(data):\n",
        "    expected_columns = [\n",
        "        'DXY_Close', 'DXY_High', 'DXY_Low', 'DXY_Open',\n",
        "        'VIX_Close', 'VIX_High', 'VIX_Low', 'VIX_Open',\n",
        "        'YMZ_Close', 'YMZ_High', 'YMZ_Low', 'YMZ_Open',\n",
        "        'YMZ_Volume']\n",
        "\n",
        "    if list(data.columns) != expected_columns:\n",
        "        print(\"Error: Column mismatch.\")\n",
        "        print(f\"Received columns: {list(data.columns)}\")\n",
        "        print(f\"Expected columns: {expected_columns}\")\n",
        "        return data\n",
        "\n",
        "    df = data.copy()\n",
        "    df['Kalman'] = kalman_filter_2d(df['YMZ_Close'].values, dt=1, Q_var=1e-4, R_var=0.5)[:,0]\n",
        "    df[\"SMA_20\"] = df[\"YMZ_Close\"].rolling(window=5).mean()\n",
        "\n",
        "\n",
        "    return df\n",
        "\n",
        "\n",
        "\n",
        "df = append_features(data)\n",
        "import plotly.graph_objects as go\n",
        "fig = go.Figure()\n",
        "day = 6\n",
        "data_slice = df.loc[f\"2025-10-{day} 0:00\":f\"2025-10-{day} 23:59\"].dropna()\n",
        "for i, yvals in enumerate([data_slice.YMZ_Close, data_slice.Kalman, data_slice.SMA_20]):\n",
        "  fig.add_trace(go.Scatter(x=data_slice.index, y=yvals))\n",
        "fig.show()"
      ],
      "metadata": {
        "id": "WsF8pEciui0I",
        "outputId": "aa8e3c99-7bc1-4e9c-f789-38e2c0441a29",
        "colab": {
          "base_uri": "https://localhost:8080/",
          "height": 611
        }
      },
      "execution_count": 117,
      "outputs": [
        {
          "output_type": "stream",
          "name": "stderr",
          "text": [
            "/tmp/ipython-input-4035234621.py:12: FutureWarning:\n",
            "\n",
            "Series.fillna with 'method' is deprecated and will raise in a future version. Use obj.ffill() or obj.bfill() instead.\n",
            "\n"
          ]
        },
        {
          "output_type": "display_data",
          "data": {
            "text/html": [
              "<html>\n",
              "<head><meta charset=\"utf-8\" /></head>\n",
              "<body>\n",
              "    <div>            <script src=\"https://cdnjs.cloudflare.com/ajax/libs/mathjax/2.7.5/MathJax.js?config=TeX-AMS-MML_SVG\"></script><script type=\"text/javascript\">if (window.MathJax && window.MathJax.Hub && window.MathJax.Hub.Config) {window.MathJax.Hub.Config({SVG: {font: \"STIX-Web\"}});}</script>                <script type=\"text/javascript\">window.PlotlyConfig = {MathJaxConfig: 'local'};</script>\n",
              "        <script charset=\"utf-8\" src=\"https://cdn.plot.ly/plotly-2.35.2.min.js\"></script>                <div id=\"a469824b-eecf-49e6-838e-9d6e01b25100\" class=\"plotly-graph-div\" style=\"height:525px; width:100%;\"></div>            <script type=\"text/javascript\">                                    window.PLOTLYENV=window.PLOTLYENV || {};                                    if (document.getElementById(\"a469824b-eecf-49e6-838e-9d6e01b25100\")) {                    Plotly.newPlot(                        \"a469824b-eecf-49e6-838e-9d6e01b25100\",                        [{\"x\":[\"2025-10-06T03:15:00-04:00\",\"2025-10-06T03:30:00-04:00\",\"2025-10-06T03:45:00-04:00\",\"2025-10-06T04:00:00-04:00\",\"2025-10-06T04:15:00-04:00\",\"2025-10-06T04:30:00-04:00\",\"2025-10-06T04:45:00-04:00\",\"2025-10-06T05:00:00-04:00\",\"2025-10-06T05:15:00-04:00\",\"2025-10-06T05:30:00-04:00\",\"2025-10-06T05:45:00-04:00\",\"2025-10-06T06:00:00-04:00\",\"2025-10-06T06:15:00-04:00\",\"2025-10-06T06:30:00-04:00\",\"2025-10-06T06:45:00-04:00\",\"2025-10-06T07:00:00-04:00\",\"2025-10-06T07:15:00-04:00\",\"2025-10-06T07:30:00-04:00\",\"2025-10-06T07:45:00-04:00\",\"2025-10-06T08:00:00-04:00\",\"2025-10-06T08:15:00-04:00\",\"2025-10-06T08:30:00-04:00\",\"2025-10-06T08:45:00-04:00\",\"2025-10-06T09:00:00-04:00\",\"2025-10-06T09:15:00-04:00\",\"2025-10-06T09:30:00-04:00\",\"2025-10-06T09:45:00-04:00\",\"2025-10-06T10:00:00-04:00\",\"2025-10-06T10:15:00-04:00\",\"2025-10-06T10:30:00-04:00\",\"2025-10-06T10:45:00-04:00\",\"2025-10-06T11:00:00-04:00\",\"2025-10-06T11:15:00-04:00\",\"2025-10-06T11:30:00-04:00\",\"2025-10-06T11:45:00-04:00\",\"2025-10-06T12:00:00-04:00\",\"2025-10-06T12:15:00-04:00\",\"2025-10-06T12:30:00-04:00\",\"2025-10-06T12:45:00-04:00\",\"2025-10-06T13:00:00-04:00\",\"2025-10-06T13:15:00-04:00\",\"2025-10-06T13:30:00-04:00\",\"2025-10-06T13:45:00-04:00\",\"2025-10-06T14:00:00-04:00\",\"2025-10-06T14:15:00-04:00\",\"2025-10-06T14:30:00-04:00\",\"2025-10-06T14:45:00-04:00\",\"2025-10-06T15:00:00-04:00\",\"2025-10-06T15:15:00-04:00\",\"2025-10-06T15:30:00-04:00\",\"2025-10-06T15:45:00-04:00\",\"2025-10-06T16:00:00-04:00\"],\"y\":[47101.0,47081.0,47084.0,47096.0,47083.0,47087.0,47087.0,47086.0,47112.0,47117.0,47120.0,47115.0,47107.0,47114.0,47126.0,47128.0,47113.0,47113.0,47148.0,47125.0,47133.0,47112.0,47112.0,47144.0,47143.0,46969.0,46824.0,46780.0,46818.0,46915.0,46909.0,46948.0,46965.0,46938.0,46934.0,46898.0,46915.0,46889.0,46913.0,46908.0,46955.0,46967.0,47000.0,46991.0,46980.0,46965.0,46955.0,46962.0,46934.0,46962.0,46976.0,46950.0],\"type\":\"scatter\"},{\"x\":[\"2025-10-06T03:15:00-04:00\",\"2025-10-06T03:30:00-04:00\",\"2025-10-06T03:45:00-04:00\",\"2025-10-06T04:00:00-04:00\",\"2025-10-06T04:15:00-04:00\",\"2025-10-06T04:30:00-04:00\",\"2025-10-06T04:45:00-04:00\",\"2025-10-06T05:00:00-04:00\",\"2025-10-06T05:15:00-04:00\",\"2025-10-06T05:30:00-04:00\",\"2025-10-06T05:45:00-04:00\",\"2025-10-06T06:00:00-04:00\",\"2025-10-06T06:15:00-04:00\",\"2025-10-06T06:30:00-04:00\",\"2025-10-06T06:45:00-04:00\",\"2025-10-06T07:00:00-04:00\",\"2025-10-06T07:15:00-04:00\",\"2025-10-06T07:30:00-04:00\",\"2025-10-06T07:45:00-04:00\",\"2025-10-06T08:00:00-04:00\",\"2025-10-06T08:15:00-04:00\",\"2025-10-06T08:30:00-04:00\",\"2025-10-06T08:45:00-04:00\",\"2025-10-06T09:00:00-04:00\",\"2025-10-06T09:15:00-04:00\",\"2025-10-06T09:30:00-04:00\",\"2025-10-06T09:45:00-04:00\",\"2025-10-06T10:00:00-04:00\",\"2025-10-06T10:15:00-04:00\",\"2025-10-06T10:30:00-04:00\",\"2025-10-06T10:45:00-04:00\",\"2025-10-06T11:00:00-04:00\",\"2025-10-06T11:15:00-04:00\",\"2025-10-06T11:30:00-04:00\",\"2025-10-06T11:45:00-04:00\",\"2025-10-06T12:00:00-04:00\",\"2025-10-06T12:15:00-04:00\",\"2025-10-06T12:30:00-04:00\",\"2025-10-06T12:45:00-04:00\",\"2025-10-06T13:00:00-04:00\",\"2025-10-06T13:15:00-04:00\",\"2025-10-06T13:30:00-04:00\",\"2025-10-06T13:45:00-04:00\",\"2025-10-06T14:00:00-04:00\",\"2025-10-06T14:15:00-04:00\",\"2025-10-06T14:30:00-04:00\",\"2025-10-06T14:45:00-04:00\",\"2025-10-06T15:00:00-04:00\",\"2025-10-06T15:15:00-04:00\",\"2025-10-06T15:30:00-04:00\",\"2025-10-06T15:45:00-04:00\",\"2025-10-06T16:00:00-04:00\"],\"y\":[47126.64699028724,47120.04210129082,47114.41600453419,47111.12218439145,47106.129659228085,47102.228051039965,47098.73224632894,47095.47014079257,47096.61338799585,47098.55354515087,47100.89755775125,47102.353408975105,47102.51034122774,47103.78465232032,47106.8516453434,47110.00247951023,47110.578367260496,47111.09661877889,47116.975870521965,47118.78926072214,47121.64081632551,47120.948894610454,47120.24769940191,47124.49997025188,47128.192958406195,47104.57943443078,47060.417854530075,47013.207403999404,46976.151635973896,46957.78551557386,46940.776832743206,46932.02266338127,46927.461838066956,46919.91648553761,46913.15491673967,46902.13955455662,46895.40591190256,46885.94544745828,46881.702900936485,46877.75005510823,46882.07576692383,46888.53727179024,46900.12592714384,46909.82691789562,46917.37971148677,46922.25650941735,46925.38678131039,46929.50094376287,46929.06780009608,46933.098979935145,46939.04866065969,46940.53437781756],\"type\":\"scatter\"},{\"x\":[\"2025-10-06T03:15:00-04:00\",\"2025-10-06T03:30:00-04:00\",\"2025-10-06T03:45:00-04:00\",\"2025-10-06T04:00:00-04:00\",\"2025-10-06T04:15:00-04:00\",\"2025-10-06T04:30:00-04:00\",\"2025-10-06T04:45:00-04:00\",\"2025-10-06T05:00:00-04:00\",\"2025-10-06T05:15:00-04:00\",\"2025-10-06T05:30:00-04:00\",\"2025-10-06T05:45:00-04:00\",\"2025-10-06T06:00:00-04:00\",\"2025-10-06T06:15:00-04:00\",\"2025-10-06T06:30:00-04:00\",\"2025-10-06T06:45:00-04:00\",\"2025-10-06T07:00:00-04:00\",\"2025-10-06T07:15:00-04:00\",\"2025-10-06T07:30:00-04:00\",\"2025-10-06T07:45:00-04:00\",\"2025-10-06T08:00:00-04:00\",\"2025-10-06T08:15:00-04:00\",\"2025-10-06T08:30:00-04:00\",\"2025-10-06T08:45:00-04:00\",\"2025-10-06T09:00:00-04:00\",\"2025-10-06T09:15:00-04:00\",\"2025-10-06T09:30:00-04:00\",\"2025-10-06T09:45:00-04:00\",\"2025-10-06T10:00:00-04:00\",\"2025-10-06T10:15:00-04:00\",\"2025-10-06T10:30:00-04:00\",\"2025-10-06T10:45:00-04:00\",\"2025-10-06T11:00:00-04:00\",\"2025-10-06T11:15:00-04:00\",\"2025-10-06T11:30:00-04:00\",\"2025-10-06T11:45:00-04:00\",\"2025-10-06T12:00:00-04:00\",\"2025-10-06T12:15:00-04:00\",\"2025-10-06T12:30:00-04:00\",\"2025-10-06T12:45:00-04:00\",\"2025-10-06T13:00:00-04:00\",\"2025-10-06T13:15:00-04:00\",\"2025-10-06T13:30:00-04:00\",\"2025-10-06T13:45:00-04:00\",\"2025-10-06T14:00:00-04:00\",\"2025-10-06T14:15:00-04:00\",\"2025-10-06T14:30:00-04:00\",\"2025-10-06T14:45:00-04:00\",\"2025-10-06T15:00:00-04:00\",\"2025-10-06T15:15:00-04:00\",\"2025-10-06T15:30:00-04:00\",\"2025-10-06T15:45:00-04:00\",\"2025-10-06T16:00:00-04:00\"],\"y\":[47115.0,47107.6,47100.4,47094.4,47089.0,47086.2,47087.4,47087.8,47091.0,47097.8,47104.4,47110.0,47114.2,47114.6,47116.4,47118.0,47117.6,47118.8,47125.6,47125.4,47126.4,47126.2,47126.0,47125.2,47128.8,47096.0,47038.4,46972.0,46906.8,46861.2,46849.2,46874.0,46911.0,46935.0,46938.8,46936.6,46930.0,46914.8,46909.8,46904.6,46916.0,46926.4,46948.6,46964.2,46978.6,46980.6,46978.2,46970.6,46959.2,46955.6,46957.8,46956.8],\"type\":\"scatter\"}],                        {\"template\":{\"data\":{\"histogram2dcontour\":[{\"type\":\"histogram2dcontour\",\"colorbar\":{\"outlinewidth\":0,\"ticks\":\"\"},\"colorscale\":[[0.0,\"#0d0887\"],[0.1111111111111111,\"#46039f\"],[0.2222222222222222,\"#7201a8\"],[0.3333333333333333,\"#9c179e\"],[0.4444444444444444,\"#bd3786\"],[0.5555555555555556,\"#d8576b\"],[0.6666666666666666,\"#ed7953\"],[0.7777777777777778,\"#fb9f3a\"],[0.8888888888888888,\"#fdca26\"],[1.0,\"#f0f921\"]]}],\"choropleth\":[{\"type\":\"choropleth\",\"colorbar\":{\"outlinewidth\":0,\"ticks\":\"\"}}],\"histogram2d\":[{\"type\":\"histogram2d\",\"colorbar\":{\"outlinewidth\":0,\"ticks\":\"\"},\"colorscale\":[[0.0,\"#0d0887\"],[0.1111111111111111,\"#46039f\"],[0.2222222222222222,\"#7201a8\"],[0.3333333333333333,\"#9c179e\"],[0.4444444444444444,\"#bd3786\"],[0.5555555555555556,\"#d8576b\"],[0.6666666666666666,\"#ed7953\"],[0.7777777777777778,\"#fb9f3a\"],[0.8888888888888888,\"#fdca26\"],[1.0,\"#f0f921\"]]}],\"heatmap\":[{\"type\":\"heatmap\",\"colorbar\":{\"outlinewidth\":0,\"ticks\":\"\"},\"colorscale\":[[0.0,\"#0d0887\"],[0.1111111111111111,\"#46039f\"],[0.2222222222222222,\"#7201a8\"],[0.3333333333333333,\"#9c179e\"],[0.4444444444444444,\"#bd3786\"],[0.5555555555555556,\"#d8576b\"],[0.6666666666666666,\"#ed7953\"],[0.7777777777777778,\"#fb9f3a\"],[0.8888888888888888,\"#fdca26\"],[1.0,\"#f0f921\"]]}],\"heatmapgl\":[{\"type\":\"heatmapgl\",\"colorbar\":{\"outlinewidth\":0,\"ticks\":\"\"},\"colorscale\":[[0.0,\"#0d0887\"],[0.1111111111111111,\"#46039f\"],[0.2222222222222222,\"#7201a8\"],[0.3333333333333333,\"#9c179e\"],[0.4444444444444444,\"#bd3786\"],[0.5555555555555556,\"#d8576b\"],[0.6666666666666666,\"#ed7953\"],[0.7777777777777778,\"#fb9f3a\"],[0.8888888888888888,\"#fdca26\"],[1.0,\"#f0f921\"]]}],\"contourcarpet\":[{\"type\":\"contourcarpet\",\"colorbar\":{\"outlinewidth\":0,\"ticks\":\"\"}}],\"contour\":[{\"type\":\"contour\",\"colorbar\":{\"outlinewidth\":0,\"ticks\":\"\"},\"colorscale\":[[0.0,\"#0d0887\"],[0.1111111111111111,\"#46039f\"],[0.2222222222222222,\"#7201a8\"],[0.3333333333333333,\"#9c179e\"],[0.4444444444444444,\"#bd3786\"],[0.5555555555555556,\"#d8576b\"],[0.6666666666666666,\"#ed7953\"],[0.7777777777777778,\"#fb9f3a\"],[0.8888888888888888,\"#fdca26\"],[1.0,\"#f0f921\"]]}],\"surface\":[{\"type\":\"surface\",\"colorbar\":{\"outlinewidth\":0,\"ticks\":\"\"},\"colorscale\":[[0.0,\"#0d0887\"],[0.1111111111111111,\"#46039f\"],[0.2222222222222222,\"#7201a8\"],[0.3333333333333333,\"#9c179e\"],[0.4444444444444444,\"#bd3786\"],[0.5555555555555556,\"#d8576b\"],[0.6666666666666666,\"#ed7953\"],[0.7777777777777778,\"#fb9f3a\"],[0.8888888888888888,\"#fdca26\"],[1.0,\"#f0f921\"]]}],\"mesh3d\":[{\"type\":\"mesh3d\",\"colorbar\":{\"outlinewidth\":0,\"ticks\":\"\"}}],\"scatter\":[{\"fillpattern\":{\"fillmode\":\"overlay\",\"size\":10,\"solidity\":0.2},\"type\":\"scatter\"}],\"parcoords\":[{\"type\":\"parcoords\",\"line\":{\"colorbar\":{\"outlinewidth\":0,\"ticks\":\"\"}}}],\"scatterpolargl\":[{\"type\":\"scatterpolargl\",\"marker\":{\"colorbar\":{\"outlinewidth\":0,\"ticks\":\"\"}}}],\"bar\":[{\"error_x\":{\"color\":\"#2a3f5f\"},\"error_y\":{\"color\":\"#2a3f5f\"},\"marker\":{\"line\":{\"color\":\"#E5ECF6\",\"width\":0.5},\"pattern\":{\"fillmode\":\"overlay\",\"size\":10,\"solidity\":0.2}},\"type\":\"bar\"}],\"scattergeo\":[{\"type\":\"scattergeo\",\"marker\":{\"colorbar\":{\"outlinewidth\":0,\"ticks\":\"\"}}}],\"scatterpolar\":[{\"type\":\"scatterpolar\",\"marker\":{\"colorbar\":{\"outlinewidth\":0,\"ticks\":\"\"}}}],\"histogram\":[{\"marker\":{\"pattern\":{\"fillmode\":\"overlay\",\"size\":10,\"solidity\":0.2}},\"type\":\"histogram\"}],\"scattergl\":[{\"type\":\"scattergl\",\"marker\":{\"colorbar\":{\"outlinewidth\":0,\"ticks\":\"\"}}}],\"scatter3d\":[{\"type\":\"scatter3d\",\"line\":{\"colorbar\":{\"outlinewidth\":0,\"ticks\":\"\"}},\"marker\":{\"colorbar\":{\"outlinewidth\":0,\"ticks\":\"\"}}}],\"scattermapbox\":[{\"type\":\"scattermapbox\",\"marker\":{\"colorbar\":{\"outlinewidth\":0,\"ticks\":\"\"}}}],\"scatterternary\":[{\"type\":\"scatterternary\",\"marker\":{\"colorbar\":{\"outlinewidth\":0,\"ticks\":\"\"}}}],\"scattercarpet\":[{\"type\":\"scattercarpet\",\"marker\":{\"colorbar\":{\"outlinewidth\":0,\"ticks\":\"\"}}}],\"carpet\":[{\"aaxis\":{\"endlinecolor\":\"#2a3f5f\",\"gridcolor\":\"white\",\"linecolor\":\"white\",\"minorgridcolor\":\"white\",\"startlinecolor\":\"#2a3f5f\"},\"baxis\":{\"endlinecolor\":\"#2a3f5f\",\"gridcolor\":\"white\",\"linecolor\":\"white\",\"minorgridcolor\":\"white\",\"startlinecolor\":\"#2a3f5f\"},\"type\":\"carpet\"}],\"table\":[{\"cells\":{\"fill\":{\"color\":\"#EBF0F8\"},\"line\":{\"color\":\"white\"}},\"header\":{\"fill\":{\"color\":\"#C8D4E3\"},\"line\":{\"color\":\"white\"}},\"type\":\"table\"}],\"barpolar\":[{\"marker\":{\"line\":{\"color\":\"#E5ECF6\",\"width\":0.5},\"pattern\":{\"fillmode\":\"overlay\",\"size\":10,\"solidity\":0.2}},\"type\":\"barpolar\"}],\"pie\":[{\"automargin\":true,\"type\":\"pie\"}]},\"layout\":{\"autotypenumbers\":\"strict\",\"colorway\":[\"#636efa\",\"#EF553B\",\"#00cc96\",\"#ab63fa\",\"#FFA15A\",\"#19d3f3\",\"#FF6692\",\"#B6E880\",\"#FF97FF\",\"#FECB52\"],\"font\":{\"color\":\"#2a3f5f\"},\"hovermode\":\"closest\",\"hoverlabel\":{\"align\":\"left\"},\"paper_bgcolor\":\"white\",\"plot_bgcolor\":\"#E5ECF6\",\"polar\":{\"bgcolor\":\"#E5ECF6\",\"angularaxis\":{\"gridcolor\":\"white\",\"linecolor\":\"white\",\"ticks\":\"\"},\"radialaxis\":{\"gridcolor\":\"white\",\"linecolor\":\"white\",\"ticks\":\"\"}},\"ternary\":{\"bgcolor\":\"#E5ECF6\",\"aaxis\":{\"gridcolor\":\"white\",\"linecolor\":\"white\",\"ticks\":\"\"},\"baxis\":{\"gridcolor\":\"white\",\"linecolor\":\"white\",\"ticks\":\"\"},\"caxis\":{\"gridcolor\":\"white\",\"linecolor\":\"white\",\"ticks\":\"\"}},\"coloraxis\":{\"colorbar\":{\"outlinewidth\":0,\"ticks\":\"\"}},\"colorscale\":{\"sequential\":[[0.0,\"#0d0887\"],[0.1111111111111111,\"#46039f\"],[0.2222222222222222,\"#7201a8\"],[0.3333333333333333,\"#9c179e\"],[0.4444444444444444,\"#bd3786\"],[0.5555555555555556,\"#d8576b\"],[0.6666666666666666,\"#ed7953\"],[0.7777777777777778,\"#fb9f3a\"],[0.8888888888888888,\"#fdca26\"],[1.0,\"#f0f921\"]],\"sequentialminus\":[[0.0,\"#0d0887\"],[0.1111111111111111,\"#46039f\"],[0.2222222222222222,\"#7201a8\"],[0.3333333333333333,\"#9c179e\"],[0.4444444444444444,\"#bd3786\"],[0.5555555555555556,\"#d8576b\"],[0.6666666666666666,\"#ed7953\"],[0.7777777777777778,\"#fb9f3a\"],[0.8888888888888888,\"#fdca26\"],[1.0,\"#f0f921\"]],\"diverging\":[[0,\"#8e0152\"],[0.1,\"#c51b7d\"],[0.2,\"#de77ae\"],[0.3,\"#f1b6da\"],[0.4,\"#fde0ef\"],[0.5,\"#f7f7f7\"],[0.6,\"#e6f5d0\"],[0.7,\"#b8e186\"],[0.8,\"#7fbc41\"],[0.9,\"#4d9221\"],[1,\"#276419\"]]},\"xaxis\":{\"gridcolor\":\"white\",\"linecolor\":\"white\",\"ticks\":\"\",\"title\":{\"standoff\":15},\"zerolinecolor\":\"white\",\"automargin\":true,\"zerolinewidth\":2},\"yaxis\":{\"gridcolor\":\"white\",\"linecolor\":\"white\",\"ticks\":\"\",\"title\":{\"standoff\":15},\"zerolinecolor\":\"white\",\"automargin\":true,\"zerolinewidth\":2},\"scene\":{\"xaxis\":{\"backgroundcolor\":\"#E5ECF6\",\"gridcolor\":\"white\",\"linecolor\":\"white\",\"showbackground\":true,\"ticks\":\"\",\"zerolinecolor\":\"white\",\"gridwidth\":2},\"yaxis\":{\"backgroundcolor\":\"#E5ECF6\",\"gridcolor\":\"white\",\"linecolor\":\"white\",\"showbackground\":true,\"ticks\":\"\",\"zerolinecolor\":\"white\",\"gridwidth\":2},\"zaxis\":{\"backgroundcolor\":\"#E5ECF6\",\"gridcolor\":\"white\",\"linecolor\":\"white\",\"showbackground\":true,\"ticks\":\"\",\"zerolinecolor\":\"white\",\"gridwidth\":2}},\"shapedefaults\":{\"line\":{\"color\":\"#2a3f5f\"}},\"annotationdefaults\":{\"arrowcolor\":\"#2a3f5f\",\"arrowhead\":0,\"arrowwidth\":1},\"geo\":{\"bgcolor\":\"white\",\"landcolor\":\"#E5ECF6\",\"subunitcolor\":\"white\",\"showland\":true,\"showlakes\":true,\"lakecolor\":\"white\"},\"title\":{\"x\":0.05},\"mapbox\":{\"style\":\"light\"}}}},                        {\"responsive\": true}                    ).then(function(){\n",
              "                            \n",
              "var gd = document.getElementById('a469824b-eecf-49e6-838e-9d6e01b25100');\n",
              "var x = new MutationObserver(function (mutations, observer) {{\n",
              "        var display = window.getComputedStyle(gd).display;\n",
              "        if (!display || display === 'none') {{\n",
              "            console.log([gd, 'removed!']);\n",
              "            Plotly.purge(gd);\n",
              "            observer.disconnect();\n",
              "        }}\n",
              "}});\n",
              "\n",
              "// Listen for the removal of the full notebook cells\n",
              "var notebookContainer = gd.closest('#notebook-container');\n",
              "if (notebookContainer) {{\n",
              "    x.observe(notebookContainer, {childList: true});\n",
              "}}\n",
              "\n",
              "// Listen for the clearing of the current output cell\n",
              "var outputEl = gd.closest('.output');\n",
              "if (outputEl) {{\n",
              "    x.observe(outputEl, {childList: true});\n",
              "}}\n",
              "\n",
              "                        })                };                            </script>        </div>\n",
              "</body>\n",
              "</html>"
            ]
          },
          "metadata": {}
        }
      ]
    },
    {
      "cell_type": "code",
      "source": [
        "def compute_features(open, high, low, close):\n",
        "  return"
      ],
      "metadata": {
        "id": "qHuQUOc50JuW"
      },
      "execution_count": null,
      "outputs": []
    }
  ],
  "metadata": {
    "colab": {
      "name": "Welcome To Colab",
      "provenance": [],
      "include_colab_link": true
    },
    "kernelspec": {
      "display_name": "Python 3",
      "name": "python3"
    }
  },
  "nbformat": 4,
  "nbformat_minor": 0
}